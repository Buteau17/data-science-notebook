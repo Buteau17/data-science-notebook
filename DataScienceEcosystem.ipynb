{
 "cells": [
  {
   "cell_type": "markdown",
   "id": "a5ee8670",
   "metadata": {},
   "source": [
    "# Data Science Tools and Ecosystem"
   ]
  },
  {
   "cell_type": "markdown",
   "id": "dcd20466",
   "metadata": {},
   "source": [
    "# In this notebook, Data Science Tools and Ecosystem are summarized."
   ]
  },
  {
   "cell_type": "markdown",
   "id": "4e771a0b",
   "metadata": {},
   "source": [
    "# Some of the popular languages that Data Scientists use are:\n",
    "\n",
    "1.Python\n",
    "\n",
    "2.R\n",
    "\n",
    "3.SQL\n",
    "\n",
    "4.Java\n",
    "\n",
    "5.Julia\n",
    "\n"
   ]
  },
  {
   "cell_type": "markdown",
   "id": "202e9c6b",
   "metadata": {},
   "source": [
    "# Some of the commonly used libraries used by Data Scientists include:\n",
    "\n",
    "1.Pandas\n",
    "\n",
    "2.Numpy\n",
    "\n",
    "3.Matplotlib\n",
    "\n",
    "4.Seaborn\n"
   ]
  },
  {
   "cell_type": "markdown",
   "id": "e9606085",
   "metadata": {},
   "source": [
    "| Data Science Tools                 |\n",
    "|------------------------------------|\n",
    "| Jupyter Notebook                   |\n",
    "| RStudio                            |\n",
    "| Apache Zeppelin                    |\n"
   ]
  },
  {
   "cell_type": "markdown",
   "id": "7d1a6b25",
   "metadata": {},
   "source": [
    "# Below are afew examples of evaluating arithmetic expressions in Python"
   ]
  },
  {
   "cell_type": "code",
   "execution_count": 1,
   "id": "65ae818f",
   "metadata": {},
   "outputs": [
    {
     "data": {
      "text/plain": [
       "17"
      ]
     },
     "execution_count": 1,
     "metadata": {},
     "output_type": "execute_result"
    }
   ],
   "source": [
    "#This a simple arithmetic expression to mutiply then add integers\n",
    "(3*4)+5"
   ]
  },
  {
   "cell_type": "code",
   "execution_count": 4,
   "id": "4ee94e3a",
   "metadata": {},
   "outputs": [
    {
     "data": {
      "text/plain": [
       "3.3333333333333335"
      ]
     },
     "execution_count": 4,
     "metadata": {},
     "output_type": "execute_result"
    }
   ],
   "source": [
    "#This will convert 200 minutes to hours by diving by 60\n",
    "200/60"
   ]
  },
  {
   "cell_type": "markdown",
   "id": "ec50f6a3",
   "metadata": {},
   "source": [
    "**Objectives:**\n",
    "\n",
    "- List popular languages for Data Science\n",
    "- Identify commonly used libraries by Data Scientists\n",
    "- Understand development environment open source tools for Data Science\n",
    "- Learn the basic concepts of Data Science\n",
    "- Explore data visualization techniques\n"
   ]
  },
  {
   "cell_type": "markdown",
   "id": "4b3832d8",
   "metadata": {},
   "source": [
    "## Author\n",
    "\n",
    "Ralph Kedy Willens Buteau\n"
   ]
  },
  {
   "cell_type": "code",
   "execution_count": null,
   "id": "e77604c4",
   "metadata": {},
   "outputs": [],
   "source": []
  }
 ],
 "metadata": {
  "kernelspec": {
   "display_name": "Python 3 (ipykernel)",
   "language": "python",
   "name": "python3"
  },
  "language_info": {
   "codemirror_mode": {
    "name": "ipython",
    "version": 3
   },
   "file_extension": ".py",
   "mimetype": "text/x-python",
   "name": "python",
   "nbconvert_exporter": "python",
   "pygments_lexer": "ipython3",
   "version": "3.9.13"
  }
 },
 "nbformat": 4,
 "nbformat_minor": 5
}
